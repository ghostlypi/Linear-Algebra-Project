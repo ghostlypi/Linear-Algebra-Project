{
 "cells": [
  {
   "cell_type": "code",
   "execution_count": 1,
   "id": "34b6fb86",
   "metadata": {},
   "outputs": [],
   "source": [
    "using LinearAlgebra, Statistics, Compat"
   ]
  },
  {
   "cell_type": "code",
   "execution_count": 2,
   "id": "b0a5c198",
   "metadata": {},
   "outputs": [
    {
     "data": {
      "text/plain": [
       "5×5 Matrix{Float64}:\n",
       " 0.0  0.0  0.0  0.0  1.0\n",
       " 0.5  0.0  0.0  0.0  0.0\n",
       " 0.5  0.0  0.0  0.0  0.0\n",
       " 0.0  1.0  0.5  0.0  0.0\n",
       " 0.0  0.0  0.5  1.0  0.0"
      ]
     },
     "execution_count": 2,
     "metadata": {},
     "output_type": "execute_result"
    }
   ],
   "source": [
    "M = [0 0 0 0 1\n",
    "     0.5 0 0 0 0\n",
    "     0.5 0 0 0 0\n",
    "     0 1 0.5 0 0\n",
    "     0 0 0.5 1 0]"
   ]
  },
  {
   "cell_type": "code",
   "execution_count": 5,
   "id": "7595562f",
   "metadata": {},
   "outputs": [
    {
     "data": {
      "text/plain": [
       "pageRank (generic function with 1 method)"
      ]
     },
     "execution_count": 5,
     "metadata": {},
     "output_type": "execute_result"
    }
   ],
   "source": [
    "function pageRank(M, iterations, damping)\n",
    "    N = size(M)[1]\n",
    "    v = randn(N,1)\n",
    "    v = v / norm(v)\n",
    "    M_hat = (damping * M + (1-damping) / N)\n",
    "    for i = 0:iterations\n",
    "        v = dot(M_hat, v)\n",
    "    end\n",
    "    return v\n",
    "end"
   ]
  },
  {
   "cell_type": "code",
   "execution_count": 4,
   "id": "264d497a",
   "metadata": {},
   "outputs": [
    {
     "ename": "LoadError",
     "evalue": "MethodError: no method matching +(::Matrix{Float64}, ::Float64)\nFor element-wise addition, use broadcasting with dot syntax: array .+ scalar\n\u001b[0mClosest candidates are:\n\u001b[0m  +(::Any, ::Any, \u001b[91m::Any\u001b[39m, \u001b[91m::Any...\u001b[39m) at operators.jl:560\n\u001b[0m  +(\u001b[91m::Base.TwicePrecision\u001b[39m, ::Number) at twiceprecision.jl:267\n\u001b[0m  +(\u001b[91m::UniformScaling\u001b[39m, ::Number) at /Users/julia/buildbot/worker/package_macos64/build/usr/share/julia/stdlib/v1.6/LinearAlgebra/src/uniformscaling.jl:145\n\u001b[0m  ...",
     "output_type": "error",
     "traceback": [
      "MethodError: no method matching +(::Matrix{Float64}, ::Float64)\nFor element-wise addition, use broadcasting with dot syntax: array .+ scalar\n\u001b[0mClosest candidates are:\n\u001b[0m  +(::Any, ::Any, \u001b[91m::Any\u001b[39m, \u001b[91m::Any...\u001b[39m) at operators.jl:560\n\u001b[0m  +(\u001b[91m::Base.TwicePrecision\u001b[39m, ::Number) at twiceprecision.jl:267\n\u001b[0m  +(\u001b[91m::UniformScaling\u001b[39m, ::Number) at /Users/julia/buildbot/worker/package_macos64/build/usr/share/julia/stdlib/v1.6/LinearAlgebra/src/uniformscaling.jl:145\n\u001b[0m  ...",
      "",
      "Stacktrace:",
      " [1] pageRank(M::Matrix{Float64}, iterations::Int64, damping::Float64)",
      "   @ Main ./In[3]:5",
      " [2] top-level scope",
      "   @ In[4]:1",
      " [3] eval",
      "   @ ./boot.jl:360 [inlined]",
      " [4] include_string(mapexpr::typeof(REPL.softscope), mod::Module, code::String, filename::String)",
      "   @ Base ./loading.jl:1116"
     ]
    }
   ],
   "source": [
    "pageRank(M, 100, 0.85)"
   ]
  }
 ],
 "metadata": {
  "kernelspec": {
   "display_name": "Julia 1.6.4",
   "language": "julia",
   "name": "julia-1.6"
  },
  "language_info": {
   "file_extension": ".jl",
   "mimetype": "application/julia",
   "name": "julia",
   "version": "1.6.4"
  }
 },
 "nbformat": 4,
 "nbformat_minor": 5
}
