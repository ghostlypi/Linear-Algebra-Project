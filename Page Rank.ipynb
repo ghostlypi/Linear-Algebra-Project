{
 "cells": [
  {
   "cell_type": "code",
   "execution_count": 1,
   "id": "34b6fb86",
   "metadata": {},
   "outputs": [],
   "source": [
    "using LinearAlgebra, Statistics, Compat"
   ]
  },
  {
   "cell_type": "code",
   "execution_count": 2,
   "id": "b0a5c198",
   "metadata": {},
   "outputs": [
    {
     "data": {
      "text/plain": [
       "5×5 Matrix{Float64}:\n",
       " 0.0  0.0  0.0  0.0  1.0\n",
       " 0.5  0.0  0.0  0.0  0.0\n",
       " 0.5  0.0  0.0  0.0  0.0\n",
       " 0.0  1.0  0.5  0.0  0.0\n",
       " 0.0  0.0  0.5  1.0  0.0"
      ]
     },
     "execution_count": 2,
     "metadata": {},
     "output_type": "execute_result"
    }
   ],
   "source": [
    "M = [0 0 0 0 1\n",
    "     0.5 0 0 0 0\n",
    "     0.5 0 0 0 0\n",
    "     0 1 0.5 0 0\n",
    "     0 0 0.5 1 0]"
   ]
  },
  {
   "cell_type": "code",
   "execution_count": 3,
   "id": "7595562f",
   "metadata": {},
   "outputs": [
    {
     "data": {
      "text/plain": [
       "pageRank (generic function with 1 method)"
      ]
     },
     "execution_count": 3,
     "metadata": {},
     "output_type": "execute_result"
    }
   ],
   "source": [
    "function pageRank(M, iterations, damping)\n",
    "    N = size(M)[2]\n",
    "    v = rand(N,1)\n",
    "    v = v / norm(v,1)\n",
    "    M_hat = ((damping * M ).+ ((1-damping) / N))\n",
    "    for i = 0:iterations\n",
    "        v = M_hat * v\n",
    "    end\n",
    "    return v\n",
    "end"
   ]
  },
  {
   "cell_type": "code",
   "execution_count": 4,
   "id": "264d497a",
   "metadata": {},
   "outputs": [
    {
     "data": {
      "text/plain": [
       "5×1 Matrix{Float64}:\n",
       " 0.2541917802573707\n",
       " 0.13803150660938274\n",
       " 0.13803150660938274\n",
       " 0.20599017092696315\n",
       " 0.2637550355969065"
      ]
     },
     "execution_count": 4,
     "metadata": {},
     "output_type": "execute_result"
    }
   ],
   "source": [
    "pageRank(M, 1000, 0.85)"
   ]
  }
 ],
 "metadata": {
  "kernelspec": {
   "display_name": "Julia 1.6.4",
   "language": "julia",
   "name": "julia-1.6"
  },
  "language_info": {
   "file_extension": ".jl",
   "mimetype": "application/julia",
   "name": "julia",
   "version": "1.6.4"
  }
 },
 "nbformat": 4,
 "nbformat_minor": 5
}
